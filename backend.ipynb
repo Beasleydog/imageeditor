{
  "nbformat": 4,
  "nbformat_minor": 0,
  "metadata": {
    "colab": {
      "provenance": [],
      "gpuType": "T4"
    },
    "kernelspec": {
      "name": "python3",
      "display_name": "Python 3"
    },
    "language_info": {
      "name": "python"
    },
    "accelerator": "GPU"
  },
  "cells": [
    {
      "cell_type": "code",
      "execution_count": 1,
      "metadata": {
        "id": "7lwM1S5Ms4nF",
        "colab": {
          "base_uri": "https://localhost:8080/",
          "height": 1000
        },
        "outputId": "18d52285-956a-4167-8eec-1374c0cffb67"
      },
      "outputs": [
        {
          "output_type": "stream",
          "name": "stdout",
          "text": [
            "Requirement already satisfied: flask in /usr/local/lib/python3.10/dist-packages (2.2.5)\n",
            "Collecting pyngrok\n",
            "  Downloading pyngrok-7.2.0-py3-none-any.whl.metadata (7.4 kB)\n",
            "Collecting simple_lama_inpainting\n",
            "  Downloading simple_lama_inpainting-0.1.2-py3-none-any.whl.metadata (1.9 kB)\n",
            "Requirement already satisfied: pillow in /usr/local/lib/python3.10/dist-packages (10.4.0)\n",
            "Collecting flask-cors\n",
            "  Downloading Flask_Cors-5.0.0-py2.py3-none-any.whl.metadata (5.5 kB)\n",
            "Requirement already satisfied: Werkzeug>=2.2.2 in /usr/local/lib/python3.10/dist-packages (from flask) (3.0.4)\n",
            "Requirement already satisfied: Jinja2>=3.0 in /usr/local/lib/python3.10/dist-packages (from flask) (3.1.4)\n",
            "Requirement already satisfied: itsdangerous>=2.0 in /usr/local/lib/python3.10/dist-packages (from flask) (2.2.0)\n",
            "Requirement already satisfied: click>=8.0 in /usr/local/lib/python3.10/dist-packages (from flask) (8.1.7)\n",
            "Requirement already satisfied: PyYAML>=5.1 in /usr/local/lib/python3.10/dist-packages (from pyngrok) (6.0.2)\n",
            "Collecting fire<0.6.0,>=0.5.0 (from simple_lama_inpainting)\n",
            "  Downloading fire-0.5.0.tar.gz (88 kB)\n",
            "\u001b[2K     \u001b[90m━━━━━━━━━━━━━━━━━━━━━━━━━━━━━━━━━━━━━━━━\u001b[0m \u001b[32m88.3/88.3 kB\u001b[0m \u001b[31m4.0 MB/s\u001b[0m eta \u001b[36m0:00:00\u001b[0m\n",
            "\u001b[?25h  Preparing metadata (setup.py) ... \u001b[?25l\u001b[?25hdone\n",
            "Requirement already satisfied: numpy<2.0.0,>=1.24.3 in /usr/local/lib/python3.10/dist-packages (from simple_lama_inpainting) (1.26.4)\n",
            "Requirement already satisfied: opencv-python<5.0.0.0,>=4.8.0.74 in /usr/local/lib/python3.10/dist-packages (from simple_lama_inpainting) (4.10.0.84)\n",
            "Collecting pillow\n",
            "  Downloading Pillow-9.5.0-cp310-cp310-manylinux_2_28_x86_64.whl.metadata (9.5 kB)\n",
            "Requirement already satisfied: torch!=2.0.1,>=1.13.1 in /usr/local/lib/python3.10/dist-packages (from simple_lama_inpainting) (2.4.1+cu121)\n",
            "Requirement already satisfied: torchvision>=0.14.1 in /usr/local/lib/python3.10/dist-packages (from simple_lama_inpainting) (0.19.1+cu121)\n",
            "Requirement already satisfied: six in /usr/local/lib/python3.10/dist-packages (from fire<0.6.0,>=0.5.0->simple_lama_inpainting) (1.16.0)\n",
            "Requirement already satisfied: termcolor in /usr/local/lib/python3.10/dist-packages (from fire<0.6.0,>=0.5.0->simple_lama_inpainting) (2.5.0)\n",
            "Requirement already satisfied: MarkupSafe>=2.0 in /usr/local/lib/python3.10/dist-packages (from Jinja2>=3.0->flask) (2.1.5)\n",
            "Requirement already satisfied: filelock in /usr/local/lib/python3.10/dist-packages (from torch!=2.0.1,>=1.13.1->simple_lama_inpainting) (3.16.1)\n",
            "Requirement already satisfied: typing-extensions>=4.8.0 in /usr/local/lib/python3.10/dist-packages (from torch!=2.0.1,>=1.13.1->simple_lama_inpainting) (4.12.2)\n",
            "Requirement already satisfied: sympy in /usr/local/lib/python3.10/dist-packages (from torch!=2.0.1,>=1.13.1->simple_lama_inpainting) (1.13.3)\n",
            "Requirement already satisfied: networkx in /usr/local/lib/python3.10/dist-packages (from torch!=2.0.1,>=1.13.1->simple_lama_inpainting) (3.3)\n",
            "Requirement already satisfied: fsspec in /usr/local/lib/python3.10/dist-packages (from torch!=2.0.1,>=1.13.1->simple_lama_inpainting) (2024.6.1)\n",
            "Requirement already satisfied: mpmath<1.4,>=1.1.0 in /usr/local/lib/python3.10/dist-packages (from sympy->torch!=2.0.1,>=1.13.1->simple_lama_inpainting) (1.3.0)\n",
            "Downloading pyngrok-7.2.0-py3-none-any.whl (22 kB)\n",
            "Downloading simple_lama_inpainting-0.1.2-py3-none-any.whl (9.6 kB)\n",
            "Downloading Pillow-9.5.0-cp310-cp310-manylinux_2_28_x86_64.whl (3.4 MB)\n",
            "\u001b[2K   \u001b[90m━━━━━━━━━━━━━━━━━━━━━━━━━━━━━━━━━━━━━━━━\u001b[0m \u001b[32m3.4/3.4 MB\u001b[0m \u001b[31m42.5 MB/s\u001b[0m eta \u001b[36m0:00:00\u001b[0m\n",
            "\u001b[?25hDownloading Flask_Cors-5.0.0-py2.py3-none-any.whl (14 kB)\n",
            "Building wheels for collected packages: fire\n",
            "  Building wheel for fire (setup.py) ... \u001b[?25l\u001b[?25hdone\n",
            "  Created wheel for fire: filename=fire-0.5.0-py2.py3-none-any.whl size=116931 sha256=374ece966777364eae68cd1dc49c0a25fd8773e2aa301b66c8d0da547a11c72a\n",
            "  Stored in directory: /root/.cache/pip/wheels/90/d4/f7/9404e5db0116bd4d43e5666eaa3e70ab53723e1e3ea40c9a95\n",
            "Successfully built fire\n",
            "Installing collected packages: pyngrok, pillow, fire, flask-cors, simple_lama_inpainting\n",
            "  Attempting uninstall: pillow\n",
            "    Found existing installation: pillow 10.4.0\n",
            "    Uninstalling pillow-10.4.0:\n",
            "      Successfully uninstalled pillow-10.4.0\n",
            "Successfully installed fire-0.5.0 flask-cors-5.0.0 pillow-9.5.0 pyngrok-7.2.0 simple_lama_inpainting-0.1.2\n"
          ]
        },
        {
          "output_type": "display_data",
          "data": {
            "application/vnd.colab-display-data+json": {
              "pip_warning": {
                "packages": [
                  "PIL"
                ]
              },
              "id": "7812ead609d041d6a6bccec3c8163697"
            }
          },
          "metadata": {}
        },
        {
          "output_type": "stream",
          "name": "stderr",
          "text": [
            "Downloading: \"https://github.com/enesmsahin/simple-lama-inpainting/releases/download/v0.1.0/big-lama.pt\" to /root/.cache/torch/hub/checkpoints/big-lama.pt\n",
            "100%|██████████| 196M/196M [00:05<00:00, 37.8MB/s]\n"
          ]
        },
        {
          "output_type": "stream",
          "name": "stdout",
          "text": [
            " * ngrok tunnel \"https://834f-34-91-67-159.ngrok-free.app\" -> \"http://127.0.0.1:5000/\"\n",
            " * Serving Flask app '__main__'\n",
            " * Debug mode: off\n"
          ]
        },
        {
          "output_type": "stream",
          "name": "stderr",
          "text": [
            "INFO:werkzeug:\u001b[31m\u001b[1mWARNING: This is a development server. Do not use it in a production deployment. Use a production WSGI server instead.\u001b[0m\n",
            " * Running on http://127.0.0.1:5000\n",
            "INFO:werkzeug:\u001b[33mPress CTRL+C to quit\u001b[0m\n",
            "INFO:werkzeug:127.0.0.1 - - [13/Oct/2024 23:16:16] \"GET / HTTP/1.1\" 200 -\n",
            "INFO:werkzeug:127.0.0.1 - - [13/Oct/2024 23:16:16] \"\u001b[33mGET /favicon.ico HTTP/1.1\u001b[0m\" 404 -\n",
            "INFO:werkzeug:127.0.0.1 - - [13/Oct/2024 23:17:33] \"OPTIONS /inpaint HTTP/1.1\" 200 -\n",
            "INFO:werkzeug:127.0.0.1 - - [13/Oct/2024 23:17:46] \"POST /inpaint HTTP/1.1\" 200 -\n",
            "INFO:werkzeug:127.0.0.1 - - [13/Oct/2024 23:17:46] \"OPTIONS /inpaint HTTP/1.1\" 200 -\n",
            "INFO:werkzeug:127.0.0.1 - - [13/Oct/2024 23:17:58] \"POST /inpaint HTTP/1.1\" 200 -\n"
          ]
        }
      ],
      "source": [
        "# Install required packages\n",
        "!pip install flask pyngrok simple_lama_inpainting pillow flask-cors\n",
        "\n",
        "# Import required libraries\n",
        "from flask import Flask, request, send_file\n",
        "from flask_cors import CORS\n",
        "from simple_lama_inpainting import SimpleLama\n",
        "from PIL import Image\n",
        "import base64\n",
        "import io\n",
        "from pyngrok import ngrok\n",
        "\n",
        "# Initialize Flask app\n",
        "app = Flask(__name__)\n",
        "CORS(app)  # This will enable CORS for all routes\n",
        "simple_lama = SimpleLama()\n",
        "\n",
        "@app.route('/inpaint', methods=['POST'])\n",
        "def inpaint():\n",
        "    # Get image and mask data URLs from request\n",
        "    image_data = request.json['image']\n",
        "    mask_data = request.json['mask']\n",
        "\n",
        "    # Convert data URLs to PIL Images\n",
        "    image = Image.open(io.BytesIO(base64.b64decode(image_data.split(',')[1]))).convert('RGB')\n",
        "    mask = Image.open(io.BytesIO(base64.b64decode(mask_data.split(',')[1]))).convert('L')\n",
        "\n",
        "    # Perform inpainting\n",
        "    result = simple_lama(image, mask)\n",
        "\n",
        "    # Convert result to bytes\n",
        "    img_byte_arr = io.BytesIO()\n",
        "    result.save(img_byte_arr, format='PNG')\n",
        "    img_byte_arr = img_byte_arr.getvalue()\n",
        "\n",
        "    return send_file(io.BytesIO(img_byte_arr), mimetype='image/png')\n",
        "\n",
        "@app.route('/', methods=['GET'])\n",
        "def hello_world():\n",
        "    return \"Hello, World!\"\n",
        "\n",
        "# Set up ngrok\n",
        "public_url = ngrok.connect(5000).public_url\n",
        "print(f\" * ngrok tunnel \\\"{public_url}\\\" -> \\\"http://127.0.0.1:5000/\\\"\")\n",
        "\n",
        "# Run the app\n",
        "if __name__ == '__main__':\n",
        "    app.run()"
      ]
    }
  ]
}